{
 "cells": [
  {
   "cell_type": "markdown",
   "metadata": {},
   "source": [
    "Exercise 1: Creating the Book Class (book.py)\n",
    "📌 Objective:\n",
    "Create a class Book to represent a book in the library.\n",
    "\n",
    "Tasks:\n",
    "\n",
    "Define a Book class with the following attributes:\n",
    "    title (str)\n",
    "    author (str)\n",
    "    isbn (str)\n",
    "    available (bool, default: True)\n",
    "Add a method mark_unavailable() to set available to False.\n",
    "Add a method mark_available() to set available to True.\n",
    "Implement the __str__ method to print book details.\n",
    "\n",
    "📂 File Structure:\n",
    "\n",
    "library_project/\n",
    "\n",
    "── book.py"
   ]
  },
  {
   "cell_type": "markdown",
   "metadata": {},
   "source": []
  },
  {
   "cell_type": "markdown",
   "metadata": {
    "vscode": {
     "languageId": "plaintext"
    }
   },
   "source": [
    "from book import Book\n",
    "\n",
    "book1 = Book(\"1984\", \"George Orwell\", \"1234567890\")\n",
    "print(book1)  # Should display book details\n",
    "\n",
    "book1.mark_unavailable()\n",
    "print(book1.available)  # Should print False\n"
   ]
  },
  {
   "cell_type": "markdown",
   "metadata": {},
   "source": [
    "Exercise 2: Creating the Member Class (member.py)\n",
    "📌 Objective:\n",
    "Define a Member class representing library members.\n",
    "\n",
    "Tasks:\n",
    "\n",
    "Attributes:\n",
    "name (str)\n",
    "member_id (str)\n",
    "borrowed_books (list, default: empty list)\n",
    "Method borrow_book(book) to add a book to borrowed_books.\n",
    "Method return_book(book) to remove a book from borrowed_books.\n",
    "Implement __str__ to display member details.\n",
    "📂 File Structure:\n",
    "\n",
    "library_project/\n",
    "\n",
    "── book.py\n",
    "\n",
    "── member.py"
   ]
  },
  {
   "cell_type": "markdown",
   "metadata": {},
   "source": [
    "from member import Member\n",
    "from book import Book\n",
    "\n",
    "member1 = Member(\"Alice\", \"M001\")\n",
    "book1 = Book(\"The Catcher in the Rye\", \"J.D. Salinger\", \"9876543210\")\n",
    "\n",
    "member1.borrow_book(book1)\n",
    "print(member1)  # Should display borrowed books"
   ]
  },
  {
   "cell_type": "markdown",
   "metadata": {},
   "source": [
    "Exercise 3: Creating the Library Class (library.py)\n",
    "📌 Objective:\n",
    "Define a Library class to manage books and members.\n",
    "\n",
    "Tasks:\n",
    "\n",
    "Attributes:\n",
    "books (list of Book objects)\n",
    "members (list of Member objects)\n",
    "Method add_book(book) to add a book to the library.\n",
    "Method add_member(member) to register a member.\n",
    "Method lend_book(book, member) to allow borrowing if available.\n",
    "Method receive_book(book, member) to return a borrowed book.\n",
    "📂 File Structure:\n",
    "\n",
    "library_project/\n",
    "\n",
    "── book.py\n",
    "\n",
    "── member.py\n",
    "\n",
    "── library.py"
   ]
  },
  {
   "cell_type": "markdown",
   "metadata": {},
   "source": [
    "from library import Library\n",
    "from book import Book\n",
    "from member import Member\n",
    "\n",
    "lib = Library()\n",
    "book1 = Book(\"Moby Dick\", \"Herman Melville\", \"1122334455\")\n",
    "member1 = Member(\"Bob\", \"M002\")\n",
    "\n",
    "lib.add_book(book1)\n",
    "lib.add_member(member1)\n",
    "lib.lend_book(book1, member1)\n",
    "print(book1.available)  # Should be False"
   ]
  },
  {
   "cell_type": "markdown",
   "metadata": {},
   "source": [
    "Exercise 4: Creating a main.py File to Use the Library System\n",
    "📌 Objective:\n",
    "Write a script (main.py) to interact with the library system.\n",
    "\n",
    "Tasks:\n",
    "\n",
    "Create books and members.\n",
    "Register them in the library.\n",
    "Borrow and return books.\n",
    "Print book and member details.\n",
    "📂 File Structure:\n",
    "\n",
    "library_project/\n",
    "\n",
    "── book.py\n",
    "\n",
    "── member.py\n",
    "\n",
    "── library.py\n",
    "\n",
    "── main.py"
   ]
  },
  {
   "cell_type": "markdown",
   "metadata": {},
   "source": [
    "from book import Book\n",
    "from member import Member\n",
    "from library import Library\n",
    "\n",
    "# Create a Library\n",
    "lib = Library()\n",
    "\n",
    "# Add Books\n",
    "book1 = Book(\"To Kill a Mockingbird\", \"Harper Lee\", \"5544332211\")\n",
    "book2 = Book(\"Pride and Prejudice\", \"Jane Austen\", \"9988776655\")\n",
    "\n",
    "lib.add_book(book1)\n",
    "lib.add_book(book2)\n",
    "\n",
    "# Add Members\n",
    "member1 = Member(\"Charlie\", \"M003\")\n",
    "lib.add_member(member1)\n",
    "\n",
    "# Borrow and Return Books\n",
    "lib.lend_book(book1, member1)\n",
    "print(member1)  # Should show borrowed books\n",
    "\n",
    "lib.receive_book(book1, member1)\n",
    "print(book1.available)  # Should be True\n"
   ]
  },
  {
   "cell_type": "markdown",
   "metadata": {},
   "source": [
    "Exercise 5: Enhancing the Library System with Inheritance (ebook.py)\n",
    "📌 Objective:\n",
    "Extend the Book class to create an EBook class.\n",
    "\n",
    "Tasks:\n",
    "\n",
    "EBook should inherit from Book.\n",
    "Add an extra attribute file_format (e.g., \"PDF\").\n",
    "Override __str__ to include file format.\n",
    "📂 File Structure:\n",
    "\n",
    "library_project/\n",
    "\n",
    "── book.py\n",
    "\n",
    "── member.py\n",
    "\n",
    "── library.py\n",
    "\n",
    "── ebook.py\n",
    "\n",
    "── main.py"
   ]
  },
  {
   "cell_type": "markdown",
   "metadata": {
    "vscode": {
     "languageId": "plaintext"
    }
   },
   "source": [
    "from ebook import EBook\n",
    "\n",
    "ebook1 = EBook(\"Python 101\", \"John Doe\", \"4455667788\", \"PDF\")\n",
    "print(ebook1)  # Should display book details along with file format\n"
   ]
  },
  {
   "cell_type": "code",
   "execution_count": 2,
   "metadata": {},
   "outputs": [
    {
     "name": "stdout",
     "output_type": "stream",
     "text": [
      "Member: Charlie, ID: M003, Borrowed Books: To Kill a Mockingbird\n",
      "True\n",
      "Title: Python 101, Author: John Doe, ISBN: 4455667788, Status: Available, Format: PDF\n"
     ]
    }
   ],
   "source": [
    "%run /Users/dmytro/Desktop/aml-alk/homework_4/library_project/main.py"
   ]
  }
 ],
 "metadata": {
  "kernelspec": {
   "display_name": "Python 3 (ipykernel)",
   "language": "python",
   "name": "python3"
  },
  "language_info": {
   "codemirror_mode": {
    "name": "ipython",
    "version": 3
   },
   "file_extension": ".py",
   "mimetype": "text/x-python",
   "name": "python",
   "nbconvert_exporter": "python",
   "pygments_lexer": "ipython3",
   "version": "3.11.5"
  }
 },
 "nbformat": 4,
 "nbformat_minor": 2
}
